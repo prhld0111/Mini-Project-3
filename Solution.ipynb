{
  "nbformat": 4,
  "nbformat_minor": 0,
  "metadata": {
    "colab": {
      "provenance": [],
      "authorship_tag": "ABX9TyPff6mAW8bCllBxjPEQTNSe",
      "include_colab_link": true
    },
    "kernelspec": {
      "name": "python3",
      "display_name": "Python 3"
    },
    "language_info": {
      "name": "python"
    }
  },
  "cells": [
    {
      "cell_type": "markdown",
      "metadata": {
        "id": "view-in-github",
        "colab_type": "text"
      },
      "source": [
        "<a href=\"https://colab.research.google.com/github/prhld0111/Mini-Project-3/blob/main/Solution.ipynb\" target=\"_parent\"><img src=\"https://colab.research.google.com/assets/colab-badge.svg\" alt=\"Open In Colab\"/></a>"
      ]
    },
    {
      "cell_type": "code",
      "execution_count": 1,
      "metadata": {
        "colab": {
          "base_uri": "https://localhost:8080/",
          "height": 383
        },
        "id": "10dXm9omcTlf",
        "outputId": "94635b33-2c63-4973-e148-a1680ab36a05"
      },
      "outputs": [
        {
          "output_type": "error",
          "ename": "ModuleNotFoundError",
          "evalue": "No module named 'flask_httpauth'",
          "traceback": [
            "\u001b[0;31m---------------------------------------------------------------------------\u001b[0m",
            "\u001b[0;31mModuleNotFoundError\u001b[0m                       Traceback (most recent call last)",
            "\u001b[0;32m<ipython-input-1-98123552bdf8>\u001b[0m in \u001b[0;36m<cell line: 10>\u001b[0;34m()\u001b[0m\n\u001b[1;32m      8\u001b[0m \u001b[0;34m\u001b[0m\u001b[0m\n\u001b[1;32m      9\u001b[0m \u001b[0;32mfrom\u001b[0m \u001b[0mflask\u001b[0m \u001b[0;32mimport\u001b[0m \u001b[0mFlask\u001b[0m\u001b[0;34m,\u001b[0m \u001b[0mrequest\u001b[0m\u001b[0;34m,\u001b[0m \u001b[0mjsonify\u001b[0m\u001b[0;34m\u001b[0m\u001b[0;34m\u001b[0m\u001b[0m\n\u001b[0;32m---> 10\u001b[0;31m \u001b[0;32mfrom\u001b[0m \u001b[0mflask_httpauth\u001b[0m \u001b[0;32mimport\u001b[0m \u001b[0mHTTPBasicAuth\u001b[0m\u001b[0;34m\u001b[0m\u001b[0;34m\u001b[0m\u001b[0m\n\u001b[0m\u001b[1;32m     11\u001b[0m \u001b[0;32mfrom\u001b[0m \u001b[0mdatetime\u001b[0m \u001b[0;32mimport\u001b[0m \u001b[0mdatetime\u001b[0m\u001b[0;34m\u001b[0m\u001b[0;34m\u001b[0m\u001b[0m\n\u001b[1;32m     12\u001b[0m \u001b[0;34m\u001b[0m\u001b[0m\n",
            "\u001b[0;31mModuleNotFoundError\u001b[0m: No module named 'flask_httpauth'",
            "",
            "\u001b[0;31m---------------------------------------------------------------------------\u001b[0;32m\nNOTE: If your import is failing due to a missing package, you can\nmanually install dependencies using either !pip or !apt.\n\nTo view examples of installing some common dependencies, click the\n\"Open Examples\" button below.\n\u001b[0;31m---------------------------------------------------------------------------\u001b[0m\n"
          ],
          "errorDetails": {
            "actions": [
              {
                "action": "open_url",
                "actionText": "Open Examples",
                "url": "/notebooks/snippets/importing_libraries.ipynb"
              }
            ]
          }
        }
      ],
      "source": [
        "\"\"\"\n",
        "Dependencies:\n",
        "- Flask\n",
        "- Flask-HTTPAuth\n",
        "Install them using:\n",
        "    pip install flask flask-httpauth\n",
        "\"\"\"\n",
        "\n",
        "from flask import Flask, request, jsonify\n",
        "from flask_httpauth import HTTPBasicAuth\n",
        "from datetime import datetime\n",
        "\n",
        "app = Flask(_name_)\n",
        "auth = HTTPBasicAuth()\n",
        "\n",
        "# Hardcoded authentication credentials\n",
        "users = {\n",
        "    \"user\": \"password\"\n",
        "}\n",
        "\n",
        "# Authentication decorator\n",
        "@auth.verify_password\n",
        "def verify_password(username, password):\n",
        "    if username in users and users[username] == password:\n",
        "        return username\n",
        "    return None\n",
        "\n",
        "# Decorator to validate query parameters and JSON payload\n",
        "def validate_request(func):\n",
        "    def wrapper(*args, **kwargs):\n",
        "        # Validate query parameters\n",
        "        start_date = request.args.get('start_date')\n",
        "        end_date = request.args.get('end_date')\n",
        "        date_format = \"%d%m%y\"\n",
        "\n",
        "        try:\n",
        "            if start_date:\n",
        "                datetime.strptime(start_date, date_format)\n",
        "            if end_date:\n",
        "                datetime.strptime(end_date, date_format)\n",
        "        except ValueError:\n",
        "            return jsonify({\"error\": \"Invalid date format. Use DDMMYY.\"}), 422\n",
        "\n",
        "        # Validate JSON payload\n",
        "        if request.is_json:\n",
        "            data = request.get_json()\n",
        "            if not isinstance(data.get(\"date\"), str) or not isinstance(data.get(\"amount\"), (int, float)):\n",
        "                return jsonify({\"error\": \"Invalid JSON data types. 'date' must be a string and 'amount' must be a number.\"}), 422\n",
        "\n",
        "            try:\n",
        "                datetime.strptime(data[\"date\"], date_format)\n",
        "            except ValueError:\n",
        "                return jsonify({\"error\": \"Invalid date format in JSON. Use DDMMYY.\"}), 422\n",
        "        else:\n",
        "            return jsonify({\"error\": \"Request payload must be JSON.\"}), 422\n",
        "\n",
        "        return func(*args, **kwargs)\n",
        "    wrapper._name_ = func._name_  # Preserve original function name for Flask routing\n",
        "    return wrapper\n",
        "\n",
        "# Endpoint definition\n",
        "@app.route('/client/<int:client_id>', methods=['POST'])\n",
        "@auth.login_required\n",
        "@validate_request\n",
        "def process_request(client_id):\n",
        "    # Extract query parameters and JSON payload\n",
        "    start_date = request.args.get('start_date')\n",
        "    end_date = request.args.get('end_date')\n",
        "    data = request.get_json()\n",
        "\n",
        "    # Business logic (placeholder)\n",
        "    return jsonify({\n",
        "        \"client_id\": client_id,\n",
        "        \"start_date\": start_date,\n",
        "        \"end_date\": end_date,\n",
        "        \"received_data\": data\n",
        "    }), 200\n",
        "\n",
        "# Run the Flask app\n",
        "if _name_ == \"_main_\":\n",
        "    app.run(debug=True)"
      ]
    }
  ]
}