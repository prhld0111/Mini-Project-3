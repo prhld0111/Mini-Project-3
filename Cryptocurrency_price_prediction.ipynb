{
  "cells": [
    {
      "cell_type": "markdown",
      "metadata": {
        "id": "view-in-github",
        "colab_type": "text"
      },
      "source": [
        "<a href=\"https://colab.research.google.com/github/prhld0111/Mini-Project-3/blob/main/Cryptocurrency_price_prediction.ipynb\" target=\"_parent\"><img src=\"https://colab.research.google.com/assets/colab-badge.svg\" alt=\"Open In Colab\"/></a>"
      ]
    },
    {
      "cell_type": "code",
      "execution_count": null,
      "metadata": {
        "id": "PjsCjv14wljf"
      },
      "outputs": [],
      "source": [
        "import pandas as pd\n",
        "import numpy as np\n",
        "import matplotlib.pyplot as plt\n",
        "from sklearn.preprocessing import MinMaxScaler\n",
        "from sklearn.model_selection import train_test_split\n",
        "from tensorflow.keras.models import Sequential\n",
        "from tensorflow.keras.layers import LSTM, Dense, Dropout\n"
      ]
    },
    {
      "cell_type": "code",
      "execution_count": null,
      "metadata": {
        "colab": {
          "base_uri": "https://localhost:8080/"
        },
        "id": "D1Ui01_xw2ZD",
        "outputId": "c680a334-18fc-4663-a0ff-389fb45e20a4"
      },
      "outputs": [
        {
          "output_type": "stream",
          "name": "stdout",
          "text": [
            "   Unnamed: 0        Date Symbol      Open      High       Low     Close  \\\n",
            "0           0  2015-11-12    $$$  0.000013  0.000017  0.000013  0.000017   \n",
            "1           1  2015-11-13    $$$  0.000017  0.000033  0.000016  0.000024   \n",
            "2           2  2015-11-14    $$$  0.000024  0.000053  0.000023  0.000030   \n",
            "3           3  2015-11-15    $$$  0.000030  0.000063  0.000022  0.000035   \n",
            "4           4  2015-11-16    $$$  0.000035  0.000046  0.000032  0.000036   \n",
            "\n",
            "   Volume  Market Cap  \n",
            "0   142.0         NaN  \n",
            "1    85.0         NaN  \n",
            "2   131.0         NaN  \n",
            "3   132.0         NaN  \n",
            "4   280.0         NaN  \n"
          ]
        }
      ],
      "source": [
        "# Load the dataset\n",
        "data = pd.read_csv(\"/content/sample_data/all_currencies.csv\")\n",
        "\n",
        "# Display the first few rows\n",
        "print(data.head())\n"
      ]
    },
    {
      "cell_type": "code",
      "execution_count": null,
      "metadata": {
        "id": "4IYpa9vix8kJ"
      },
      "outputs": [],
      "source": [
        "# Select relevant columns\n",
        "data = data[['Date', 'Close', 'Open', 'High', 'Low', 'Volume', 'Market Cap']]\n",
        "\n",
        "# Convert date to datetime format and sort\n",
        "data['Date'] = pd.to_datetime(data['Date'])\n",
        "data.sort_values('Date', inplace=True)\n",
        "\n",
        "# Normalize numerical features\n",
        "scaler = MinMaxScaler()\n",
        "scaled_data = scaler.fit_transform(data[['Close', 'Open', 'High', 'Low', 'Volume', 'Market Cap']])\n",
        "\n",
        "# Prepare the data for LSTM (use only 'close' for prediction)\n",
        "data['scaled_close'] = scaled_data[:, 0]\n"
      ]
    },
    {
      "cell_type": "code",
      "execution_count": null,
      "metadata": {
        "id": "eP8eDuDC0Gya"
      },
      "outputs": [],
      "source": [
        "def create_sequences(data, look_back):\n",
        "    X, y = [], []\n",
        "    for i in range(len(data) - look_back):\n",
        "        X.append(data[i:i+look_back, 0])  # Past prices\n",
        "        y.append(data[i+look_back, 0])   # Future price\n",
        "    return np.array(X), np.array(y)\n",
        "\n",
        "look_back = 60  # Use 60 past days\n",
        "X, y = create_sequences(scaled_data, look_back)\n",
        "\n",
        "# Reshape X for LSTM\n",
        "X = X.reshape(X.shape[0], X.shape[1], 1)\n"
      ]
    },
    {
      "cell_type": "code",
      "execution_count": null,
      "metadata": {
        "id": "fnXI8O4E0OvH"
      },
      "outputs": [],
      "source": [
        "X_train, X_test, y_train, y_test = train_test_split(X, y, test_size=0.2, random_state=42)\n"
      ]
    },
    {
      "cell_type": "code",
      "source": [
        "from tensorflow.keras.callbacks import EarlyStopping\n",
        "\n",
        "# Initialize early stopping\n",
        "early_stopping = EarlyStopping(\n",
        "    monitor='val_loss',  # Metric to monitor\n",
        "    patience=5,          # Number of epochs with no improvement before stopping\n",
        "    restore_best_weights=True  # Restore model weights from the epoch with the best validation loss\n",
        ")\n",
        "\n",
        "# Train the model with early stopping\n",
        "history = model.fit(\n",
        "    X_train, y_train,\n",
        "    epochs=50,\n",
        "    batch_size=32,\n",
        "    validation_data=(X_test, y_test),\n",
        "    callbacks=[early_stopping]  # Include early stopping in the callbacks list\n",
        ")\n"
      ],
      "metadata": {
        "colab": {
          "base_uri": "https://localhost:8080/"
        },
        "id": "0nyvLt7gfSFl",
        "outputId": "8a3d2c08-6c5f-4605-eeee-8a0a7e744642"
      },
      "execution_count": null,
      "outputs": [
        {
          "output_type": "stream",
          "name": "stdout",
          "text": [
            "Epoch 1/50\n",
            "\u001b[1m16144/16144\u001b[0m \u001b[32m━━━━━━━━━━━━━━━━━━━━\u001b[0m\u001b[37m\u001b[0m \u001b[1m862s\u001b[0m 53ms/step - loss: 1.2771e-05 - val_loss: 7.6025e-06\n",
            "Epoch 2/50\n",
            "\u001b[1m16144/16144\u001b[0m \u001b[32m━━━━━━━━━━━━━━━━━━━━\u001b[0m\u001b[37m\u001b[0m \u001b[1m927s\u001b[0m 54ms/step - loss: 2.3538e-05 - val_loss: 7.0200e-06\n",
            "Epoch 3/50\n",
            "\u001b[1m16144/16144\u001b[0m \u001b[32m━━━━━━━━━━━━━━━━━━━━\u001b[0m\u001b[37m\u001b[0m \u001b[1m868s\u001b[0m 54ms/step - loss: 1.7772e-05 - val_loss: 7.0183e-06\n",
            "Epoch 4/50\n",
            "\u001b[1m16144/16144\u001b[0m \u001b[32m━━━━━━━━━━━━━━━━━━━━\u001b[0m\u001b[37m\u001b[0m \u001b[1m919s\u001b[0m 54ms/step - loss: 1.5928e-05 - val_loss: 7.2573e-06\n",
            "Epoch 5/50\n",
            "\u001b[1m16144/16144\u001b[0m \u001b[32m━━━━━━━━━━━━━━━━━━━━\u001b[0m\u001b[37m\u001b[0m \u001b[1m923s\u001b[0m 54ms/step - loss: 1.6991e-05 - val_loss: 7.0438e-06\n",
            "Epoch 6/50\n",
            "\u001b[1m16144/16144\u001b[0m \u001b[32m━━━━━━━━━━━━━━━━━━━━\u001b[0m\u001b[37m\u001b[0m \u001b[1m865s\u001b[0m 54ms/step - loss: 1.5376e-05 - val_loss: 7.0161e-06\n",
            "Epoch 7/50\n",
            "\u001b[1m16144/16144\u001b[0m \u001b[32m━━━━━━━━━━━━━━━━━━━━\u001b[0m\u001b[37m\u001b[0m \u001b[1m869s\u001b[0m 54ms/step - loss: 1.5936e-05 - val_loss: 7.0150e-06\n",
            "Epoch 8/50\n",
            "\u001b[1m16144/16144\u001b[0m \u001b[32m━━━━━━━━━━━━━━━━━━━━\u001b[0m\u001b[37m\u001b[0m \u001b[1m919s\u001b[0m 54ms/step - loss: 1.6818e-05 - val_loss: 7.0137e-06\n",
            "Epoch 9/50\n",
            "\u001b[1m16144/16144\u001b[0m \u001b[32m━━━━━━━━━━━━━━━━━━━━\u001b[0m\u001b[37m\u001b[0m \u001b[1m925s\u001b[0m 54ms/step - loss: 1.6494e-05 - val_loss: 7.0142e-06\n",
            "Epoch 10/50\n",
            "\u001b[1m 6545/16144\u001b[0m \u001b[32m━━━━━━━━\u001b[0m\u001b[37m━━━━━━━━━━━━\u001b[0m \u001b[1m8:06\u001b[0m 51ms/step - loss: 8.8641e-06"
          ]
        }
      ]
    },
    {
      "cell_type": "code",
      "source": [
        "# Plot training and validation loss\n",
        "plt.figure(figsize=(10, 6))\n",
        "plt.plot(history.history['loss'], label='Training Loss')\n",
        "plt.plot(history.history['val_loss'], label='Validation Loss')\n",
        "plt.axvline(x=len(history.history['loss']) - early_stopping.patience, color='r', linestyle='--', label='Early Stopping Point')\n",
        "plt.legend()\n",
        "plt.show()\n"
      ],
      "metadata": {
        "id": "2vO2WMLPfejG"
      },
      "execution_count": null,
      "outputs": []
    }
  ],
  "metadata": {
    "colab": {
      "provenance": [],
      "authorship_tag": "ABX9TyPrwUwG962c2oFRntrJvYVj",
      "include_colab_link": true
    },
    "kernelspec": {
      "display_name": "Python 3",
      "name": "python3"
    },
    "language_info": {
      "name": "python"
    }
  },
  "nbformat": 4,
  "nbformat_minor": 0
}