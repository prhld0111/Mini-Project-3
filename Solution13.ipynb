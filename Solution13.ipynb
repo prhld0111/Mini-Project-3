{
  "nbformat": 4,
  "nbformat_minor": 0,
  "metadata": {
    "colab": {
      "provenance": [],
      "authorship_tag": "ABX9TyN+yM1C9fUxFhyDkGF+lXHx",
      "include_colab_link": true
    },
    "kernelspec": {
      "name": "python3",
      "display_name": "Python 3"
    },
    "language_info": {
      "name": "python"
    }
  },
  "cells": [
    {
      "cell_type": "markdown",
      "metadata": {
        "id": "view-in-github",
        "colab_type": "text"
      },
      "source": [
        "<a href=\"https://colab.research.google.com/github/prhld0111/Mini-Project-3/blob/main/Solution13.ipynb\" target=\"_parent\"><img src=\"https://colab.research.google.com/assets/colab-badge.svg\" alt=\"Open In Colab\"/></a>"
      ]
    },
    {
      "cell_type": "code",
      "execution_count": 1,
      "metadata": {
        "colab": {
          "base_uri": "https://localhost:8080/"
        },
        "id": "zwQxpN69lzj3",
        "outputId": "ebfc482b-fed5-4afa-f019-3811f56dba65"
      },
      "outputs": [
        {
          "output_type": "stream",
          "name": "stdout",
          "text": [
            "     x    y  group\n",
            "0  0.0  0.0      0\n",
            "1  0.2  0.3      0\n",
            "2  1.5  1.4      1\n",
            "3  0.1  0.1      0\n",
            "4  1.6  1.5      1\n",
            "5  2.0  2.2      2\n"
          ]
        }
      ],
      "source": [
        "import pandas as pd\n",
        "import numpy as np\n",
        "from scipy.spatial import distance\n",
        "\n",
        "# Create a sample DataFrame\n",
        "data = {\n",
        "    \"x\": [0.0, 0.2, 1.5, 0.1, 1.6, 2.0],\n",
        "    \"y\": [0.0, 0.3, 1.4, 0.1, 1.5, 2.2],\n",
        "}\n",
        "df = pd.DataFrame(data)\n",
        "\n",
        "# Compute the pairwise Euclidean distances\n",
        "coords = df[[\"x\", \"y\"]].values  # Extract coordinates as NumPy array\n",
        "dist_matrix = distance.cdist(coords, coords, metric=\"euclidean\")\n",
        "\n",
        "# Use a threshold to determine groups\n",
        "threshold = 0.5\n",
        "adjacency_matrix = dist_matrix <= threshold\n",
        "\n",
        "# Find connected components (groups) using scipy\n",
        "from scipy.sparse.csgraph import connected_components\n",
        "from scipy.sparse import csr_matrix\n",
        "\n",
        "graph = csr_matrix(adjacency_matrix)  # Create sparse graph from adjacency matrix\n",
        "n_components, labels = connected_components(csgraph=graph, directed=False)\n",
        "\n",
        "# Add group labels to the DataFrame\n",
        "df[\"group\"] = labels\n",
        "\n",
        "print(df)"
      ]
    }
  ]
}